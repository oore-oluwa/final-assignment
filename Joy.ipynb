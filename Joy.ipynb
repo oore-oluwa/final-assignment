{
  "metadata": {
    "language_info": {
      "codemirror_mode": {
        "name": "python",
        "version": 3
      },
      "file_extension": ".py",
      "mimetype": "text/x-python",
      "name": "python",
      "nbconvert_exporter": "python",
      "pygments_lexer": "ipython3",
      "version": "3.8"
    },
    "kernelspec": {
      "name": "python",
      "display_name": "Pyolite",
      "language": "python"
    }
  },
  "nbformat_minor": 4,
  "nbformat": 4,
  "cells": [
    {
      "cell_type": "markdown",
      "source": " # My Jupyter Notebook on IBM Watson Studio",
      "metadata": {}
    },
    {
      "cell_type": "markdown",
      "source": "<b> Name: Adewale Joy Oore-oluwa\n\nI am a medical student.",
      "metadata": {}
    },
    {
      "cell_type": "markdown",
      "source": "<i> I am interested in data science because it is a very lucrative field. Also, it is very important in research in medicine. With my knowledge of medicine and data science, I will be able to improve the healthcare system of my country.",
      "metadata": {}
    },
    {
      "cell_type": "markdown",
      "source": "### My code in Cell 5 shows a simple multiplication of two numbers, 3 and 8. The output gives 24.",
      "metadata": {}
    },
    {
      "cell_type": "code",
      "source": "3 * 8",
      "metadata": {
        "trusted": true
      },
      "execution_count": 1,
      "outputs": [
        {
          "execution_count": 1,
          "output_type": "execute_result",
          "data": {
            "text/plain": "24"
          },
          "metadata": {}
        }
      ]
    },
    {
      "cell_type": "markdown",
      "source": "|Name|  |Age|\n|----|  |---|\n|Joy|   |20|\n|Dodo|  |25|\n\n",
      "metadata": {}
    },
    {
      "cell_type": "markdown",
      "source": "* Jupyter\n* Scala\n* R studio\n\n",
      "metadata": {}
    },
    {
      "cell_type": "markdown",
      "source": "\n`Here is an highlighted list`",
      "metadata": {}
    },
    {
      "cell_type": "code",
      "source": "",
      "metadata": {},
      "execution_count": null,
      "outputs": []
    }
  ]
}